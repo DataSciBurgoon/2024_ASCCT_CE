{
  "nbformat": 4,
  "nbformat_minor": 0,
  "metadata": {
    "colab": {
      "provenance": []
    },
    "kernelspec": {
      "name": "ir",
      "display_name": "R"
    },
    "language_info": {
      "name": "R"
    }
  },
  "cells": [
    {
      "cell_type": "markdown",
      "source": [
        "First, we need to install a package."
      ],
      "metadata": {
        "id": "m9uxpktvIukW"
      }
    },
    {
      "cell_type": "code",
      "source": [
        "if (!require(\"BiocManager\", quietly = TRUE))\n",
        "    install.packages(\"BiocManager\")\n",
        "\n",
        "BiocManager::install(c(\"Rgraphviz\", \"graph\"))\n",
        "\n",
        "library(devtools)\n",
        "install_github(\"datasciburgoon/aop\")\n",
        "\n",
        "install.packages(\"gRain\", \"ROCR\", \"pracma\")"
      ],
      "metadata": {
        "colab": {
          "base_uri": "https://localhost:8080/"
        },
        "id": "2Q-54Z1nlFEG",
        "outputId": "e2a8ce76-898b-4d5b-a0ad-502e56df6110"
      },
      "execution_count": null,
      "outputs": [
        {
          "output_type": "stream",
          "name": "stderr",
          "text": [
            "'getOption(\"repos\")' replaces Bioconductor standard repositories, see\n",
            "'help(\"repositories\", package = \"BiocManager\")' for details.\n",
            "Replacement repositories:\n",
            "    CRAN: https://cran.rstudio.com\n",
            "\n",
            "Bioconductor version 3.19 (BiocManager 1.30.25), R 4.4.1 (2024-06-14)\n",
            "\n",
            "Warning message:\n",
            "“package(s) not installed when version(s) same as or greater than current; use\n",
            "  `force = TRUE` to re-install: 'Rgraphviz' 'graph'”\n",
            "Old packages: 'gtable', 'withr'\n",
            "\n",
            "Skipping install of 'aop' from a github remote, the SHA1 (323b0897) has not changed since last install.\n",
            "  Use `force = TRUE` to force installation\n",
            "\n",
            "Installing package into ‘/usr/local/lib/R/site-library’\n",
            "(as ‘lib’ is unspecified)\n",
            "\n",
            "Installing package into ‘/usr/local/lib/R/site-library’\n",
            "(as ‘lib’ is unspecified)\n",
            "\n",
            "also installing the dependencies ‘bitops’, ‘gtools’, ‘caTools’, ‘gplots’\n",
            "\n",
            "\n"
          ]
        }
      ]
    },
    {
      "cell_type": "markdown",
      "source": [
        "Now that we have our packages loaded, we can start our tutorial."
      ],
      "metadata": {
        "id": "Wle1kmbyCPHI"
      }
    },
    {
      "cell_type": "code",
      "source": [],
      "metadata": {
        "id": "lkq2E-UVCW2N"
      },
      "execution_count": null,
      "outputs": []
    }
  ]
}