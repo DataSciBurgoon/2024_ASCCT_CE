{
  "nbformat": 4,
  "nbformat_minor": 0,
  "metadata": {
    "colab": {
      "provenance": []
    },
    "kernelspec": {
      "name": "ir",
      "display_name": "R"
    },
    "language_info": {
      "name": "R"
    }
  },
  "cells": [
    {
      "cell_type": "markdown",
      "source": [
        "This is a test to see if I can use this as a virtual compute lab.\n",
        "\n",
        "First, we need to install a package."
      ],
      "metadata": {
        "id": "m9uxpktvIukW"
      }
    },
    {
      "cell_type": "code",
      "source": [
        "if (!require(\"BiocManager\", quietly = TRUE))\n",
        "    install.packages(\"BiocManager\")\n",
        "\n",
        "BiocManager::install(c(\"Rgraphviz\", \"graph\"))"
      ],
      "metadata": {
        "id": "2Q-54Z1nlFEG"
      },
      "execution_count": null,
      "outputs": []
    },
    {
      "cell_type": "code",
      "source": [
        "library(devtools)\n",
        "install_github(\"datasciburgoon/aop\")"
      ],
      "metadata": {
        "colab": {
          "base_uri": "https://localhost:8080/"
        },
        "id": "ro0LksNeI-u2",
        "outputId": "aa078460-7d8b-4c6f-9995-c30431193ed9"
      },
      "execution_count": 3,
      "outputs": [
        {
          "output_type": "stream",
          "name": "stderr",
          "text": [
            "Downloading GitHub repo datasciburgoon/aop@HEAD\n",
            "\n"
          ]
        },
        {
          "output_type": "stream",
          "name": "stdout",
          "text": [
            "withr  (3.0.1 -> 3.0.2 ) [CRAN]\n",
            "gtable (0.3.5 -> 0.3.6 ) [CRAN]\n",
            "plyr   (NA    -> 1.8.9 ) [CRAN]\n",
            "igraph (NA    -> 2.1.1 ) [CRAN]\n",
            "rjson  (NA    -> 0.2.23) [CRAN]\n"
          ]
        },
        {
          "output_type": "stream",
          "name": "stderr",
          "text": [
            "Skipping 2 packages not available: Rgraphviz, graph\n",
            "\n",
            "Installing 7 packages: withr, gtable, plyr, Rgraphviz, igraph, rjson, graph\n",
            "\n",
            "Installing packages into ‘/usr/local/lib/R/site-library’\n",
            "(as ‘lib’ is unspecified)\n",
            "\n",
            "Warning message:\n",
            "“packages ‘Rgraphviz’, ‘graph’ are not available for this version of R\n",
            "\n",
            "Versions of these packages for your version of R might be available elsewhere,\n",
            "see the ideas at\n",
            "https://cran.r-project.org/doc/manuals/r-patched/R-admin.html#Installing-packages”\n",
            "Warning message in i.p(...):\n",
            "“installation of package ‘igraph’ had non-zero exit status”\n"
          ]
        },
        {
          "output_type": "stream",
          "name": "stdout",
          "text": [
            "\u001b[36m──\u001b[39m \u001b[36mR CMD build\u001b[39m \u001b[36m─────────────────────────────────────────────────────────────────\u001b[39m\n",
            "* checking for file ‘/tmp/RtmpqLQYSx/remotesae1b4a2339/DataSciBurgoon-aop-323b089/DESCRIPTION’ ... OK\n",
            "* preparing ‘aop’:\n",
            "* checking DESCRIPTION meta-information ... OK\n",
            "* checking vignette meta-information ... OK\n",
            "* checking for LF line-endings in source and make files and shell scripts\n",
            "* checking for empty or unneeded directories\n",
            "* building ‘aop_1.0.0.tar.gz’\n",
            "\n"
          ]
        },
        {
          "output_type": "stream",
          "name": "stderr",
          "text": [
            "Installing package into ‘/usr/local/lib/R/site-library’\n",
            "(as ‘lib’ is unspecified)\n",
            "\n",
            "Warning message in i.p(...):\n",
            "“installation of package ‘/tmp/RtmpqLQYSx/fileae35373f6a/aop_1.0.0.tar.gz’ had non-zero exit status”\n"
          ]
        }
      ]
    },
    {
      "cell_type": "markdown",
      "source": [
        "And now that that worked, let's continue..."
      ],
      "metadata": {
        "id": "iC8zstBPJBRc"
      }
    },
    {
      "cell_type": "code",
      "execution_count": null,
      "metadata": {
        "id": "3xX1ePQuIqEx"
      },
      "outputs": [],
      "source": [
        "# let's build a distribution\n",
        "x <- rnorm(10000, 25, 10)\n",
        "y <- rnorm(10000, 20, 10)"
      ]
    },
    {
      "cell_type": "markdown",
      "source": [
        "And now we'll plot the histogram for x:"
      ],
      "metadata": {
        "id": "aFEFNgecIryq"
      }
    },
    {
      "cell_type": "code",
      "source": [
        "xy <- data.frame(stuff=c(x,y), grouping= c(rep(\"x\", 10000), rep(\"y\", 10000)))"
      ],
      "metadata": {
        "id": "HqE-jKr6MWWO"
      },
      "execution_count": null,
      "outputs": []
    },
    {
      "cell_type": "code",
      "source": [
        "library(ggplot2)\n",
        "\n",
        "ggplot(xy, aes(x=stuff, color=grouping)) +\n",
        "  geom_histogram()"
      ],
      "metadata": {
        "colab": {
          "base_uri": "https://localhost:8080/",
          "height": 454
        },
        "id": "z-BNx7gjNXN1",
        "outputId": "701d690a-1ac6-45b2-d197-797230febe02"
      },
      "execution_count": null,
      "outputs": [
        {
          "output_type": "stream",
          "name": "stderr",
          "text": [
            "\u001b[1m\u001b[22m`stat_bin()` using `bins = 30`. Pick better value with `binwidth`.\n"
          ]
        },
        {
          "output_type": "display_data",
          "data": {
            "text/plain": [
              "plot without title"
            ],
            "image/png": "[encoded data removed]"
          },
          "metadata": {
            "image/png": {
              "width": 420,
              "height": 420
            }
          }
        }
      ]
    },
    {
      "cell_type": "code",
      "source": [
        "from google.colab import drive\n",
        "drive.mount('/content/drive')"
      ],
      "metadata": {
        "id": "SbTZpVUWkWWX",
        "outputId": "f50942ec-2137-4b2a-cd6f-49085476153d",
        "colab": {
          "base_uri": "https://localhost:8080/",
          "height": 106
        }
      },
      "execution_count": 1,
      "outputs": [
        {
          "output_type": "error",
          "ename": "ERROR",
          "evalue": "Error in parse(text = input): <text>:1:6: unexpected symbol\n1: from google.colab\n         ^\n",
          "traceback": [
            "Error in parse(text = input): <text>:1:6: unexpected symbol\n1: from google.colab\n         ^\nTraceback:\n"
          ]
        }
      ]
    }
  ]
}